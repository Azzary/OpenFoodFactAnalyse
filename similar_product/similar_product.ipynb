{
 "cells": [
  {
   "cell_type": "code",
   "execution_count": 1,
   "metadata": {},
   "outputs": [],
   "source": [
    "import pymongo\n",
    "import pandas as pd\n",
    "import torch\n",
    "from sklearn.preprocessing import StandardScaler\n",
    "from sklearn.feature_extraction.text import TfidfVectorizer"
   ]
  },
  {
   "cell_type": "code",
   "execution_count": 2,
   "metadata": {},
   "outputs": [
    {
     "name": "stdout",
     "output_type": "stream",
     "text": [
      "Nombre de produits après nettoyage : 48025\n"
     ]
    }
   ],
   "source": [
    "client = pymongo.MongoClient(\"mongodb://127.0.0.1:27017/\")\n",
    "db = client[\"off\"]\n",
    "collection = db[\"products\"]\n",
    "\n",
    "data = []\n",
    "for product in collection.find().limit(50000):\n",
    "    nutritional_values = product.get('nutriments', {})\n",
    "    if 'ingredients_text' in product and product['ingredients_text']:\n",
    "        item = {\n",
    "            'id': product['_id'],\n",
    "            'name': product.get('product_name', ''),\n",
    "            'ingredients': product['ingredients_text'],\n",
    "            'calories': nutritional_values.get('energy-kcal_100g', 0),\n",
    "            'proteins': nutritional_values.get('proteins_100g', 0),\n",
    "            'carbohydrates': nutritional_values.get('carbohydrates_100g', 0),\n",
    "            'fats': nutritional_values.get('fat_100g', 0)\n",
    "        }\n",
    "        data.append(item)\n",
    "\n",
    "df = pd.DataFrame(data)\n",
    "\n",
    "df = df.dropna(subset=['name'])\n",
    "df = df.fillna({'ingredients': '', 'calories': 0, 'proteins': 0, 'carbohydrates': 0, 'fats': 0})\n",
    "\n",
    "print(f\"Nombre de produits après nettoyage : {len(df)}\")\n"
   ]
  },
  {
   "cell_type": "code",
   "execution_count": 3,
   "metadata": {},
   "outputs": [
    {
     "name": "stdout",
     "output_type": "stream",
     "text": [
      "Product 1 : Chocolat au lait\n",
      "Ingredients : MODE D'UTILISATION utilisez la ut assaisonner les potes 'les pizzas et lasagnes. Prête o l'emploi. : POURIOOgDE PRODUIT dtmùrts lég Prunes lg 0,3B 4,22 Cascina San Cassiano C.so Piave, 182 - Alba (CN) - Italia www.cascinasancassiano.com\n",
      "\n",
      "Product 2 :  moutarde au moût de raisin \n",
      "Ingredients : eau graines de téguments de moutarde vinaigre de vin rouge sel vin rouge sucre   moût de raisin (6.2%) oignons colorants extraits de carotte et extrait de paprika huile de tournesol son de moutarde sel\n",
      "(cette _moutarde_ uniquement disponible chez courte paille)\n",
      "\n",
      "Product 3 : Solène céréales poulet\n",
      "Ingredients : antioxydant : érythorbate de sodium, colorant : caramel - origine UE), tomate 33,3%, MAYONNAISE 11,1% (huile de colza 78,9%, eau, jaunes d'OEUF 6%, vinaigre, MOUTARDE [eau, graines de MOUTARDE, sel, vinaigre, curcuma], sel, dextrose, stabilisateur : gomme de cellulose, conservateur : sorbate de potassium, colorant : ?-carotène, arôme)\n",
      "\n",
      "Product 4 : Crème dessert chocolat\n",
      "Ingredients : Lait entier, sucre, amidon de maïs, cacao, Agar agar.\n",
      "\n",
      "Product 5 : Baguette Poitevin\n",
      "Ingredients : baguette Poite vin Pain baguette 50,6%: farine de BLÉ, eau, sel, levure, GLUTEN, farine de BLE maité, levure désactivée, acide ascorbique, Garniture FROMAGE mi-chèvre 46% (LAIT pasteurisé [95 0% LAIT de vache, 5 0% LAIT de chèvre], sel, FERMENTS LACTIQUES et daffinage, coagulant), tomate saladg 20,4%, huile d'olive I basilic 1%\n",
      "\n"
     ]
    }
   ],
   "source": [
    "for i in range(5):\n",
    "    print(f\"Product {i+1} : {df['name'][i]}\")\n",
    "    print(f\"Ingredients : {df['ingredients'][i]}\")\n",
    "    print(\"\")"
   ]
  },
  {
   "cell_type": "code",
   "execution_count": 4,
   "metadata": {},
   "outputs": [
    {
     "name": "stdout",
     "output_type": "stream",
     "text": [
      "Shape of the TF-IDF matrix: (48025, 12206)\n",
      "Number of non-zero elements: 1130753\n",
      "Sparsity: 0.19%\n"
     ]
    }
   ],
   "source": [
    "scaler = StandardScaler()\n",
    "nutritional_features = ['calories', 'proteins', 'carbohydrates', 'fats']\n",
    "df[nutritional_features] = scaler.fit_transform(df[nutritional_features])\n",
    "\n",
    "tfidf = TfidfVectorizer(stop_words='english')\n",
    "ingredients_tfidf = tfidf.fit_transform(df['ingredients'])\n",
    "\n",
    "print(f\"Shape of the TF-IDF matrix: {ingredients_tfidf.shape}\")\n",
    "print(f\"Number of non-zero elements: {ingredients_tfidf.nnz}\")\n",
    "print(f\"Sparsity: {100.0 * ingredients_tfidf.nnz / (ingredients_tfidf.shape[0] * ingredients_tfidf.shape[1]):.2f}%\")"
   ]
  },
  {
   "cell_type": "code",
   "execution_count": 5,
   "metadata": {},
   "outputs": [
    {
     "name": "stdout",
     "output_type": "stream",
     "text": [
      "Shape des embeddings : torch.Size([48025, 128])\n"
     ]
    }
   ],
   "source": [
    "nutritional_tensor = torch.FloatTensor(df[nutritional_features].values)\n",
    "ingredients_tensor = torch.FloatTensor(ingredients_tfidf.toarray())\n",
    "\n",
    "feature_tensor = torch.cat((nutritional_tensor, ingredients_tensor), dim=1)\n",
    "\n",
    "class ProductEmbedding(torch.nn.Module):\n",
    "    def __init__(self, input_size, embedding_size):\n",
    "        super(ProductEmbedding, self).__init__()\n",
    "        self.embedding = torch.nn.Sequential(\n",
    "            torch.nn.Linear(input_size, 512),\n",
    "            torch.nn.ReLU(),\n",
    "            torch.nn.Linear(512, embedding_size),\n",
    "            torch.nn.ReLU()\n",
    "        )\n",
    "\n",
    "    def forward(self, x):\n",
    "        return self.embedding(x)\n",
    "\n",
    "input_size = feature_tensor.shape[1]\n",
    "embedding_size = 128\n",
    "model = ProductEmbedding(input_size, embedding_size)\n",
    "\n",
    "with torch.no_grad():\n",
    "    product_embeddings = model(feature_tensor)\n",
    "\n",
    "print(f\"Shape des embeddings : {product_embeddings.shape}\")"
   ]
  },
  {
   "cell_type": "code",
   "execution_count": 9,
   "metadata": {},
   "outputs": [
    {
     "name": "stdout",
     "output_type": "stream",
     "text": [
      "Shape des vecteurs combinés : torch.Size([48025, 12210])\n",
      "Recommandations pour le produit 0000000000000 (Chocolat au lait):\n",
      "Hickory Harvest, Sesame Sticks\n",
      "Baked Cheese Crackers\n",
      "Yogurt Raisin & Peanut Mix\n",
      "Toffee Pecans\n",
      "White Cheddar Popcorn\n",
      "Pop Corn\n",
      "Mrs. Weinstein's Toffee, Milk Chocolate Squares, Almond\n",
      "Annie's Organic White Cheddar Popcorn\n",
      "Chocolate Peanut Clusters\n",
      "Kowalskis Markets, Chocolate Grahams, Peanut Butter\n"
     ]
    }
   ],
   "source": [
    "nutritional_tensor = torch.FloatTensor(df[nutritional_features].values)\n",
    "ingredients_tensor = torch.FloatTensor(ingredients_tfidf.toarray())\n",
    "\n",
    "feature_tensor = torch.cat((nutritional_tensor, ingredients_tensor), dim=1)\n",
    "\n",
    "print(f\"Shape des vecteurs combinés : {feature_tensor.shape}\")\n",
    "\n",
    "def get_recommendations(product_id, top_n=10):\n",
    "    if product_id not in df['id'].values:\n",
    "        return \"Product not found\"\n",
    "\n",
    "    idx = df.index[df['id'] == product_id].tolist()[0]\n",
    "    target_embedding = feature_tensor[idx].unsqueeze(0)\n",
    "    \n",
    "    similarities = torch.cosine_similarity(target_embedding, feature_tensor)\n",
    "    \n",
    "    _, indices = torch.topk(similarities, top_n + 1)\n",
    "    recommended_indices = indices[1:]  # Exclure le produit lui-même\n",
    "\n",
    "    return df['name'].iloc[recommended_indices].tolist()\n",
    "\n",
    "\n",
    "# 104 huile\n",
    "# 1 chocolat\n",
    "\n",
    "index_test = 0\n",
    "test_product_id = df['id'].iloc[index_test]\n",
    "recommendations = get_recommendations(test_product_id)\n",
    "\n",
    "print(f\"Recommandations pour le produit {test_product_id} ({df['name'].iloc[index_test]}):\")\n",
    "for rec in recommendations:\n",
    "    print(rec)\n"
   ]
  },
  {
   "cell_type": "code",
   "execution_count": 7,
   "metadata": {},
   "outputs": [
    {
     "name": "stdout",
     "output_type": "stream",
     "text": [
      "Recommandations pour le produit 0016000289987 (Rich & creamy vanilla frosting):\n",
      "Harina para preparar brownie saboe a chocolate\n",
      "Bebida Gatorade sabor limonada\n",
      "Gatorade Sabor Uva\n",
      "\n",
      "\n",
      "Recommandations pour le produit 0041220849611 (H-e-b, breakfast bread, cinnamon raisin):\n",
      "H-e-b, breakfast bread, apple strudel\n",
      "Breakfast Bread\n",
      "Progresso Italian Style Bread Crumbs\n",
      "\n",
      "\n",
      "Recommandations pour le produit 0035826055750 (Food lion, jumbo butterfly shrimp):\n",
      "Popcorn shrimp\n",
      "Popcorn Shrimp\n",
      "Popcorn Shrimp\n",
      "\n",
      "\n",
      "Recommandations pour le produit 0030034094416 (Kettle cooked potato chips):\n",
      "Giant eagle, kettle cooked original potato chips\n",
      "Reduced fat original kettle chips, original\n",
      "Kroger, kettle cooked potato chips, original\n",
      "\n",
      "\n"
     ]
    },
    {
     "ename": "KeyboardInterrupt",
     "evalue": "",
     "output_type": "error",
     "traceback": [
      "\u001b[1;31m---------------------------------------------------------------------------\u001b[0m",
      "\u001b[1;31mKeyboardInterrupt\u001b[0m                         Traceback (most recent call last)",
      "Cell \u001b[1;32mIn[7], line 9\u001b[0m\n\u001b[0;32m      7\u001b[0m \u001b[38;5;28;01mfor\u001b[39;00m index \u001b[38;5;129;01min\u001b[39;00m random_product_indices:\n\u001b[0;32m      8\u001b[0m     test_product_id \u001b[38;5;241m=\u001b[39m df[\u001b[38;5;124m'\u001b[39m\u001b[38;5;124mid\u001b[39m\u001b[38;5;124m'\u001b[39m]\u001b[38;5;241m.\u001b[39miloc[index]\n\u001b[1;32m----> 9\u001b[0m     recommendations \u001b[38;5;241m=\u001b[39m \u001b[43mget_recommendations\u001b[49m\u001b[43m(\u001b[49m\u001b[43mtest_product_id\u001b[49m\u001b[43m,\u001b[49m\u001b[43m \u001b[49m\u001b[43mtop_n\u001b[49m\u001b[38;5;241;43m=\u001b[39;49m\u001b[38;5;241;43m3\u001b[39;49m\u001b[43m)\u001b[49m\n\u001b[0;32m     11\u001b[0m     \u001b[38;5;28mprint\u001b[39m(\u001b[38;5;124mf\u001b[39m\u001b[38;5;124m\"\u001b[39m\u001b[38;5;124mRecommandations pour le produit \u001b[39m\u001b[38;5;132;01m{\u001b[39;00mtest_product_id\u001b[38;5;132;01m}\u001b[39;00m\u001b[38;5;124m (\u001b[39m\u001b[38;5;132;01m{\u001b[39;00mdf[\u001b[38;5;124m'\u001b[39m\u001b[38;5;124mname\u001b[39m\u001b[38;5;124m'\u001b[39m]\u001b[38;5;241m.\u001b[39miloc[index]\u001b[38;5;132;01m}\u001b[39;00m\u001b[38;5;124m):\u001b[39m\u001b[38;5;124m\"\u001b[39m)\n\u001b[0;32m     12\u001b[0m     \u001b[38;5;28;01mfor\u001b[39;00m rec \u001b[38;5;129;01min\u001b[39;00m recommendations:\n",
      "Cell \u001b[1;32mIn[6], line 15\u001b[0m, in \u001b[0;36mget_recommendations\u001b[1;34m(product_id, top_n)\u001b[0m\n\u001b[0;32m     12\u001b[0m idx \u001b[38;5;241m=\u001b[39m df\u001b[38;5;241m.\u001b[39mindex[df[\u001b[38;5;124m'\u001b[39m\u001b[38;5;124mid\u001b[39m\u001b[38;5;124m'\u001b[39m] \u001b[38;5;241m==\u001b[39m product_id]\u001b[38;5;241m.\u001b[39mtolist()[\u001b[38;5;241m0\u001b[39m]\n\u001b[0;32m     13\u001b[0m target_embedding \u001b[38;5;241m=\u001b[39m feature_tensor[idx]\u001b[38;5;241m.\u001b[39munsqueeze(\u001b[38;5;241m0\u001b[39m)\n\u001b[1;32m---> 15\u001b[0m similarities \u001b[38;5;241m=\u001b[39m \u001b[43mtorch\u001b[49m\u001b[38;5;241;43m.\u001b[39;49m\u001b[43mcosine_similarity\u001b[49m\u001b[43m(\u001b[49m\u001b[43mtarget_embedding\u001b[49m\u001b[43m,\u001b[49m\u001b[43m \u001b[49m\u001b[43mfeature_tensor\u001b[49m\u001b[43m)\u001b[49m\n\u001b[0;32m     17\u001b[0m _, indices \u001b[38;5;241m=\u001b[39m torch\u001b[38;5;241m.\u001b[39mtopk(similarities, top_n \u001b[38;5;241m+\u001b[39m \u001b[38;5;241m1\u001b[39m)\n\u001b[0;32m     18\u001b[0m recommended_indices \u001b[38;5;241m=\u001b[39m indices[\u001b[38;5;241m1\u001b[39m:]  \u001b[38;5;66;03m# Exclure le produit lui-même\u001b[39;00m\n",
      "\u001b[1;31mKeyboardInterrupt\u001b[0m: "
     ]
    }
   ],
   "source": [
    "import random\n",
    "\n",
    "# Sélectionner 10 produits au hasard\n",
    "random_product_indices = random.sample(range(len(df)), 10)\n",
    "\n",
    "# Pour chaque produit aléatoire, afficher les 3 produits les plus similaires\n",
    "for index in random_product_indices:\n",
    "    test_product_id = df['id'].iloc[index]\n",
    "    recommendations = get_recommendations(test_product_id, top_n=3)\n",
    "    \n",
    "    print(f\"Recommandations pour le produit {test_product_id} ({df['name'].iloc[index]}):\")\n",
    "    for rec in recommendations:\n",
    "        print(rec)\n",
    "    print(\"\\n\")\n"
   ]
  }
 ],
 "metadata": {
  "kernelspec": {
   "display_name": "Python 3",
   "language": "python",
   "name": "python3"
  },
  "language_info": {
   "codemirror_mode": {
    "name": "ipython",
    "version": 3
   },
   "file_extension": ".py",
   "mimetype": "text/x-python",
   "name": "python",
   "nbconvert_exporter": "python",
   "pygments_lexer": "ipython3",
   "version": "3.12.5"
  }
 },
 "nbformat": 4,
 "nbformat_minor": 2
}
